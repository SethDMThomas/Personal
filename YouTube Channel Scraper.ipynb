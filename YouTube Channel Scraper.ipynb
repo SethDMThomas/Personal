{
 "cells": [
  {
   "cell_type": "code",
   "execution_count": 58,
   "id": "5eca4595",
   "metadata": {},
   "outputs": [],
   "source": [
    "# Import necessary libraries\n",
    "import time \n",
    "import datetime\n",
    "import pandas as pd\n",
    "from selenium import webdriver\n",
    "from selenium.webdriver.chrome.service import Service\n",
    "from selenium.webdriver.common.by import By\n",
    "from selenium.webdriver.chrome.options import Options\n",
    "from webdriver_manager.chrome import ChromeDriverManager\n",
    "from selenium.common.exceptions import NoSuchElementException, ElementClickInterceptedException\n",
    "\n",
    "# Setup chrome options\n",
    "chrome_options = Options()\n",
    "chrome_options.add_argument(\"--headless\")  # Ensure GUI is off\n",
    "chrome_options.add_argument(\"--no-sandbox\")\n",
    "chrome_options.add_argument(\"--disable-dev-shm-usage\")\n",
    "\n",
    "# Set path to chromedriver as per your configuration\n",
    "webdriver_service = Service(ChromeDriverManager().install())\n",
    "\n",
    "# Start the browser\n",
    "driver = webdriver.Chrome(service=webdriver_service, options=chrome_options)"
   ]
  },
  {
   "cell_type": "code",
   "execution_count": 59,
   "id": "5b29aea7",
   "metadata": {},
   "outputs": [
    {
     "name": "stdout",
     "output_type": "stream",
     "text": [
      "Enter Channel Name:\n",
      "veritasium\n"
     ]
    }
   ],
   "source": [
    "#Prompt for input and open the indicated YouTube page\n",
    "print('Enter Channel Name:')\n",
    "channel = input()\n",
    "URL = 'https://www.youtube.com/@' + channel + '/videos'\n",
    "driver.get(URL)\n",
    "\n",
    "#Wait for JavaScript to load the content\n",
    "time.sleep(5)\n",
    "\n",
    "#Going through each video in this page\n",
    "video_area = driver.find_element(By.CLASS_NAME, \"style-scope ytd-rich-grid-renderer\")\n",
    "page_content = video_area.find_element(By.ID, \"contents\")                              #ADD HERE: Scroll down the page\n",
    "videos = page_content.find_elements(By.TAG_NAME, \"ytd-rich-item-renderer\")\n",
    "\n",
    "#Populate list of dictionaries with each video's respective information\n",
    "video_list = []\n",
    "for video in videos:\n",
    "    title = video.find_element(By.ID, \"video-title\").get_attribute('innerText')\n",
    "    duration = video.find_element(By.ID, \"length\").get_attribute('innerText')\n",
    "    views_posted = video.find_element(By.ID, 'metadata-line').get_attribute('innerText').split('\\n')\n",
    "    link = video.find_element(By.ID, \"video-title-link\").get_attribute('href')\n",
    "    \n",
    "    video_list.append({'Title':title, 'Duration':duration, 'Views':views_posted[0], 'Posted':views_posted[1], 'Link':link})\n",
    "\n",
    "#Convert to dataframe for data analysis\n",
    "videos_df = pd.DataFrame(video_list)"
   ]
  },
  {
   "cell_type": "code",
   "execution_count": 60,
   "id": "b0157147",
   "metadata": {},
   "outputs": [
    {
     "data": {
      "text/html": [
       "<div>\n",
       "<style scoped>\n",
       "    .dataframe tbody tr th:only-of-type {\n",
       "        vertical-align: middle;\n",
       "    }\n",
       "\n",
       "    .dataframe tbody tr th {\n",
       "        vertical-align: top;\n",
       "    }\n",
       "\n",
       "    .dataframe thead th {\n",
       "        text-align: right;\n",
       "    }\n",
       "</style>\n",
       "<table border=\"1\" class=\"dataframe\">\n",
       "  <thead>\n",
       "    <tr style=\"text-align: right;\">\n",
       "      <th></th>\n",
       "      <th>Title</th>\n",
       "      <th>Duration</th>\n",
       "      <th>Views</th>\n",
       "      <th>Posted</th>\n",
       "      <th>Link</th>\n",
       "    </tr>\n",
       "  </thead>\n",
       "  <tbody>\n",
       "    <tr>\n",
       "      <th>0</th>\n",
       "      <td>The Real Reason Robots Shouldn’t Look Like Humans</td>\n",
       "      <td>1:27:20</td>\n",
       "      <td>1M views</td>\n",
       "      <td>2 days ago</td>\n",
       "      <td>https://www.youtube.com/watch?v=eLVAMG_3fLg</td>\n",
       "    </tr>\n",
       "    <tr>\n",
       "      <th>1</th>\n",
       "      <td>Why People Prefer More Pain</td>\n",
       "      <td>17:03</td>\n",
       "      <td>3.1M views</td>\n",
       "      <td>1 month ago</td>\n",
       "      <td>https://www.youtube.com/watch?v=v4r71kEdYME</td>\n",
       "    </tr>\n",
       "    <tr>\n",
       "      <th>2</th>\n",
       "      <td>What Jumping Spiders Teach Us About Color</td>\n",
       "      <td>32:37</td>\n",
       "      <td>3M views</td>\n",
       "      <td>2 months ago</td>\n",
       "      <td>https://www.youtube.com/watch?v=nfAqTSjMBJk</td>\n",
       "    </tr>\n",
       "    <tr>\n",
       "      <th>3</th>\n",
       "      <td>The Terrifying Real Science Of Avalanches</td>\n",
       "      <td>25:04</td>\n",
       "      <td>2.5M views</td>\n",
       "      <td>2 months ago</td>\n",
       "      <td>https://www.youtube.com/watch?v=Zce-V0YVzeI</td>\n",
       "    </tr>\n",
       "    <tr>\n",
       "      <th>4</th>\n",
       "      <td>Something Strange Happens When You Follow Eins...</td>\n",
       "      <td>37:03</td>\n",
       "      <td>12M views</td>\n",
       "      <td>3 months ago</td>\n",
       "      <td>https://www.youtube.com/watch?v=6akmv1bsz1M</td>\n",
       "    </tr>\n",
       "  </tbody>\n",
       "</table>\n",
       "</div>"
      ],
      "text/plain": [
       "                                               Title Duration       Views  \\\n",
       "0  The Real Reason Robots Shouldn’t Look Like Humans  1:27:20    1M views   \n",
       "1                        Why People Prefer More Pain    17:03  3.1M views   \n",
       "2          What Jumping Spiders Teach Us About Color    32:37    3M views   \n",
       "3          The Terrifying Real Science Of Avalanches    25:04  2.5M views   \n",
       "4  Something Strange Happens When You Follow Eins...    37:03   12M views   \n",
       "\n",
       "         Posted                                         Link  \n",
       "0    2 days ago  https://www.youtube.com/watch?v=eLVAMG_3fLg  \n",
       "1   1 month ago  https://www.youtube.com/watch?v=v4r71kEdYME  \n",
       "2  2 months ago  https://www.youtube.com/watch?v=nfAqTSjMBJk  \n",
       "3  2 months ago  https://www.youtube.com/watch?v=Zce-V0YVzeI  \n",
       "4  3 months ago  https://www.youtube.com/watch?v=6akmv1bsz1M  "
      ]
     },
     "execution_count": 60,
     "metadata": {},
     "output_type": "execute_result"
    }
   ],
   "source": [
    "videos_df.head()"
   ]
  },
  {
   "cell_type": "code",
   "execution_count": 61,
   "id": "78890bdd",
   "metadata": {},
   "outputs": [],
   "source": [
    "# Close the browser\n",
    "driver.quit()"
   ]
  }
 ],
 "metadata": {
  "kernelspec": {
   "display_name": "Python 3 (ipykernel)",
   "language": "python",
   "name": "python3"
  },
  "language_info": {
   "codemirror_mode": {
    "name": "ipython",
    "version": 3
   },
   "file_extension": ".py",
   "mimetype": "text/x-python",
   "name": "python",
   "nbconvert_exporter": "python",
   "pygments_lexer": "ipython3",
   "version": "3.10.9"
  }
 },
 "nbformat": 4,
 "nbformat_minor": 5
}
